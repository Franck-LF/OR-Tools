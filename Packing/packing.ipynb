{
 "cells": [
  {
   "cell_type": "markdown",
   "id": "5056f847",
   "metadata": {},
   "source": [
    "# <center>\n",
    "<div style=\"\n",
    "    background: #f0f333ff;\n",
    "    border-left: 5px solid #ecd242ff;\n",
    "    padding: 15px 25px;\n",
    "    margin: 20px 0;\n",
    "    box-shadow: 0 2px 8px rgba(0,0,0,0.08);\n",
    "\">\n",
    "    <h1 style=\"\n",
    "        text-align: center;\n",
    "        color: #2e3a59;\n",
    "        font-family: 'Segoe UI', sans-serif;\n",
    "        margin: 0;\n",
    "        font-weight: 600;\n",
    "    \">\n",
    "    Packing\n",
    "    </h1>\n",
    "</div>"
   ]
  },
  {
   "cell_type": "markdown",
   "id": "b8d4e0b6",
   "metadata": {},
   "source": [
    "## Source"
   ]
  },
  {
   "cell_type": "markdown",
   "id": "073072fe",
   "metadata": {},
   "source": [
    "https://developers.google.com/optimization/flow?hl=en"
   ]
  },
  {
   "cell_type": "markdown",
   "id": "4afff9cb",
   "metadata": {},
   "source": [
    "##\n",
    "<div style=\"\n",
    "    background: #40f0aa;\n",
    "    border-left: 5px solid #0c7230ff;\n",
    "    padding: 15px 25px;\n",
    "    margin: 20px 0;\n",
    "    box-shadow: 0 2px 8px rgba(0,0,0,0.08);\n",
    "\">\n",
    "    <h2 style=\"\n",
    "        color: #2e3a59;\n",
    "        font-family: 'Segoe UI', sans-serif;\n",
    "        margin: 0;\n",
    "        font-weight: 500;\n",
    "    \">\n",
    "    The Knapsack Problem\n",
    "    </h2>\n",
    "</div>"
   ]
  },
  {
   "cell_type": "code",
   "execution_count": 2,
   "id": "75f8d0c7",
   "metadata": {},
   "outputs": [
    {
     "name": "stdout",
     "output_type": "stream",
     "text": [
      "Total value = 7534\n",
      "Total weight: 850\n",
      "Packed items: [0, 1, 3, 4, 6, 10, 11, 12, 14, 15, 16, 17, 18, 19, 21, 22, 24, 27, 28, 29, 30, 31, 32, 34, 38, 39, 41, 42, 44, 47, 48, 49]\n",
      "Packed_weights: [7, 0, 22, 80, 11, 59, 18, 0, 3, 8, 15, 42, 9, 0, 47, 52, 26, 6, 29, 84, 2, 4, 18, 7, 71, 3, 66, 31, 0, 65, 52, 13]\n"
     ]
    }
   ],
   "source": [
    "# https://developers.google.com/optimization/pack/knapsack?hl=en\n",
    "\n",
    "from ortools.algorithms.python import knapsack_solver\n",
    "\n",
    "def main():\n",
    "    # Create the solver.\n",
    "    solver = knapsack_solver.KnapsackSolver(\n",
    "        knapsack_solver.SolverType.KNAPSACK_MULTIDIMENSION_BRANCH_AND_BOUND_SOLVER,\n",
    "        \"KnapsackExample\",\n",
    "    )\n",
    "\n",
    "    values = [\n",
    "        # fmt:off\n",
    "      360, 83, 59, 130, 431, 67, 230, 52, 93, 125, 670, 892, 600, 38, 48, 147,\n",
    "      78, 256, 63, 17, 120, 164, 432, 35, 92, 110, 22, 42, 50, 323, 514, 28,\n",
    "      87, 73, 78, 15, 26, 78, 210, 36, 85, 189, 274, 43, 33, 10, 19, 389, 276,\n",
    "      312\n",
    "        # fmt:on\n",
    "    ]\n",
    "    weights = [\n",
    "        # fmt: off\n",
    "      [7, 0, 30, 22, 80, 94, 11, 81, 70, 64, 59, 18, 0, 36, 3, 8, 15, 42, 9, 0,\n",
    "       42, 47, 52, 32, 26, 48, 55, 6, 29, 84, 2, 4, 18, 56, 7, 29, 93, 44, 71,\n",
    "       3, 86, 66, 31, 65, 0, 79, 20, 65, 52, 13],\n",
    "        # fmt: on\n",
    "    ]\n",
    "    capacities = [850]\n",
    "\n",
    "    solver.init(values, weights, capacities)\n",
    "    computed_value = solver.solve()\n",
    "\n",
    "    packed_items = []\n",
    "    packed_weights = []\n",
    "    total_weight = 0\n",
    "    print(\"Total value =\", computed_value)\n",
    "    for i in range(len(values)):\n",
    "        if solver.best_solution_contains(i):\n",
    "            packed_items.append(i)\n",
    "            packed_weights.append(weights[0][i])\n",
    "            total_weight += weights[0][i]\n",
    "    print(\"Total weight:\", total_weight)\n",
    "    print(\"Packed items:\", packed_items)\n",
    "    print(\"Packed_weights:\", packed_weights)\n",
    "\n",
    "\n",
    "if __name__ == \"__main__\":\n",
    "    main()"
   ]
  },
  {
   "cell_type": "code",
   "execution_count": null,
   "id": "853bad71",
   "metadata": {},
   "outputs": [],
   "source": []
  }
 ],
 "metadata": {
  "kernelspec": {
   "display_name": "ortools",
   "language": "python",
   "name": "python3"
  },
  "language_info": {
   "codemirror_mode": {
    "name": "ipython",
    "version": 3
   },
   "file_extension": ".py",
   "mimetype": "text/x-python",
   "name": "python",
   "nbconvert_exporter": "python",
   "pygments_lexer": "ipython3",
   "version": "3.12.10"
  }
 },
 "nbformat": 4,
 "nbformat_minor": 5
}

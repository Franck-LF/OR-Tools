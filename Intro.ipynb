{
 "cells": [
  {
   "cell_type": "markdown",
   "id": "de2b6dd2",
   "metadata": {},
   "source": [
    "# <center>Google OR Tools"
   ]
  },
  {
   "cell_type": "markdown",
   "id": "e1856ac8",
   "metadata": {},
   "source": [
    "## Sources\n",
    "\n",
    "https://developers.google.com/optimization/install/python?hl=fr#build_from_source<br>\n",
    "\n"
   ]
  },
  {
   "cell_type": "code",
   "execution_count": null,
   "id": "f59d907c",
   "metadata": {
    "vscode": {
     "languageId": "plaintext"
    }
   },
   "outputs": [],
   "source": [
    "import os\n",
    "import numpy as np\n",
    "import pandas as pd\n",
    "\n"
   ]
  },
  {
   "cell_type": "markdown",
   "id": "a08da02c",
   "metadata": {},
   "source": []
  }
 ],
 "metadata": {
  "language_info": {
   "name": "python"
  }
 },
 "nbformat": 4,
 "nbformat_minor": 5
}

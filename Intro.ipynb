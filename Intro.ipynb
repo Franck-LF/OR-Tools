{
 "cells": [
  {
   "cell_type": "markdown",
   "id": "de2b6dd2",
   "metadata": {},
   "source": [
    "# <center>Google OR Tools"
   ]
  },
  {
   "cell_type": "markdown",
   "id": "e1856ac8",
   "metadata": {},
   "source": [
    "## Sources\n",
    "\n",
    "https://developers.google.com/optimization/install/python?hl=fr#build_from_source<br>\n",
    "\n",
    "\n",
    "**Installing Google OR-Tools**:<br>\n",
    "<code>python -m pip install ortools</code>\n",
    "\n",
    "**GLOP (Google Linear Optimization Package)**:<br>\n",
    "Linear programming solver part of OR-Tools\n",
    "https://en.wikipedia.org/wiki/GLOP\n",
    "\n",
    "it supports a wide range of problem types:\n",
    "\n",
    "Assignment problem<br>\n",
    "Linear programming<br>\n",
    "Mixed-integer programming<br>\n",
    "Constraint programming<br>\n",
    "Vehicle routing problem<br>\n",
    "Network flow algorithms<br>\n",
    "\n",
    "**Cryptarithmetic problem**<br>\n",
    "**N Queens Problem**<br>\n",
    "\n"
   ]
  },
  {
   "cell_type": "code",
   "execution_count": null,
   "id": "f59d907c",
   "metadata": {},
   "outputs": [],
   "source": [
    "import os\n",
    "import numpy as np\n",
    "import pandas as pd\n",
    "\n",
    "from ortools.sat.python import cp_model\n",
    "\n"
   ]
  },
  {
   "cell_type": "markdown",
   "id": "a08da02c",
   "metadata": {},
   "source": []
  }
 ],
 "metadata": {
  "kernelspec": {
   "display_name": "ortools",
   "language": "python",
   "name": "python3"
  },
  "language_info": {
   "codemirror_mode": {
    "name": "ipython",
    "version": 3
   },
   "file_extension": ".py",
   "mimetype": "text/x-python",
   "name": "python",
   "nbconvert_exporter": "python",
   "pygments_lexer": "ipython3",
   "version": "3.12.10"
  }
 },
 "nbformat": 4,
 "nbformat_minor": 5
}

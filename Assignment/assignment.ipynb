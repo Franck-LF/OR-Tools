{
 "cells": [
  {
   "cell_type": "markdown",
   "id": "5056f847",
   "metadata": {},
   "source": [
    "# <center>\n",
    "<div style=\"\n",
    "    background: #f0f333ff;\n",
    "    border-left: 5px solid #ecd242ff;\n",
    "    padding: 15px 25px;\n",
    "    margin: 20px 0;\n",
    "    box-shadow: 0 2px 8px rgba(0,0,0,0.08);\n",
    "\">\n",
    "    <h1 style=\"\n",
    "        text-align: center;\n",
    "        color: #2e3a59;\n",
    "        font-family: 'Segoe UI', sans-serif;\n",
    "        margin: 0;\n",
    "        font-weight: 600;\n",
    "    \">\n",
    "    Assignment\n",
    "    </h1>\n",
    "</div>"
   ]
  },
  {
   "cell_type": "markdown",
   "id": "b8d4e0b6",
   "metadata": {},
   "source": [
    "## Source"
   ]
  },
  {
   "cell_type": "markdown",
   "id": "073072fe",
   "metadata": {},
   "source": [
    "https://developers.google.com/optimization/flow?hl=en"
   ]
  },
  {
   "cell_type": "markdown",
   "id": "4afff9cb",
   "metadata": {},
   "source": [
    "##\n",
    "<div style=\"\n",
    "    background: #40f0aa;\n",
    "    border-left: 5px solid #0c7230ff;\n",
    "    padding: 15px 25px;\n",
    "    margin: 20px 0;\n",
    "    box-shadow: 0 2px 8px rgba(0,0,0,0.08);\n",
    "\">\n",
    "    <h2 style=\"\n",
    "        color: #2e3a59;\n",
    "        font-family: 'Segoe UI', sans-serif;\n",
    "        margin: 0;\n",
    "        font-weight: 500;\n",
    "    \">\n",
    "    Assignment Problem\n",
    "    </h2>\n",
    "</div>"
   ]
  },
  {
   "cell_type": "code",
   "execution_count": 1,
   "id": "75f8d0c7",
   "metadata": {},
   "outputs": [
    {
     "name": "stdout",
     "output_type": "stream",
     "text": [
      "Solving with SCIP 9.2.2 [LP solver: SoPlex 7.1.3]\n",
      "Total cost = 265.0\n",
      "\n",
      "Worker 0 assigned to task 3. Cost: 70\n",
      "Worker 1 assigned to task 2. Cost: 55\n",
      "Worker 2 assigned to task 1. Cost: 95\n",
      "Worker 3 assigned to task 0. Cost: 45\n"
     ]
    }
   ],
   "source": [
    "# https://developers.google.com/optimization/assignment/assignment_example?hl=en\n",
    "\n",
    "from ortools.linear_solver import pywraplp\n",
    "\n",
    "\n",
    "def main():\n",
    "    # Data\n",
    "    costs = [\n",
    "        [90, 80, 75, 70],\n",
    "        [35, 85, 55, 65],\n",
    "        [125, 95, 90, 95],\n",
    "        [45, 110, 95, 115],\n",
    "        [50, 100, 90, 100],\n",
    "    ]\n",
    "    num_workers = len(costs)\n",
    "    num_tasks = len(costs[0])\n",
    "\n",
    "    # Solver\n",
    "    # Create the mip solver with the SCIP backend.\n",
    "    solver = pywraplp.Solver.CreateSolver(\"SCIP\")\n",
    "\n",
    "    if not solver:\n",
    "        return\n",
    "\n",
    "    # Variables\n",
    "    # x[i, j] is an array of 0-1 variables, which will be 1\n",
    "    # if worker i is assigned to task j.\n",
    "    x = {}\n",
    "    for i in range(num_workers):\n",
    "        for j in range(num_tasks):\n",
    "            x[i, j] = solver.IntVar(0, 1, \"\")\n",
    "\n",
    "    # Constraints\n",
    "    # Each worker is assigned to at most 1 task.\n",
    "    for i in range(num_workers):\n",
    "        solver.Add(solver.Sum([x[i, j] for j in range(num_tasks)]) <= 1)\n",
    "\n",
    "    # Each task is assigned to exactly one worker.\n",
    "    for j in range(num_tasks):\n",
    "        solver.Add(solver.Sum([x[i, j] for i in range(num_workers)]) == 1)\n",
    "\n",
    "    # Objective\n",
    "    objective_terms = []\n",
    "    for i in range(num_workers):\n",
    "        for j in range(num_tasks):\n",
    "            objective_terms.append(costs[i][j] * x[i, j])\n",
    "    solver.Minimize(solver.Sum(objective_terms))\n",
    "\n",
    "    # Solve\n",
    "    print(f\"Solving with {solver.SolverVersion()}\")\n",
    "    status = solver.Solve()\n",
    "\n",
    "    # Print solution.\n",
    "    if status == pywraplp.Solver.OPTIMAL or status == pywraplp.Solver.FEASIBLE:\n",
    "        print(f\"Total cost = {solver.Objective().Value()}\\n\")\n",
    "        for i in range(num_workers):\n",
    "            for j in range(num_tasks):\n",
    "                # Test if x[i,j] is 1 (with tolerance for floating point arithmetic).\n",
    "                if x[i, j].solution_value() > 0.5:\n",
    "                    print(f\"Worker {i} assigned to task {j}.\" + f\" Cost: {costs[i][j]}\")\n",
    "    else:\n",
    "        print(\"No solution found.\")\n",
    "\n",
    "\n",
    "if __name__ == \"__main__\":\n",
    "    main()"
   ]
  }
 ],
 "metadata": {
  "kernelspec": {
   "display_name": "ortools",
   "language": "python",
   "name": "python3"
  },
  "language_info": {
   "codemirror_mode": {
    "name": "ipython",
    "version": 3
   },
   "file_extension": ".py",
   "mimetype": "text/x-python",
   "name": "python",
   "nbconvert_exporter": "python",
   "pygments_lexer": "ipython3",
   "version": "3.12.10"
  }
 },
 "nbformat": 4,
 "nbformat_minor": 5
}

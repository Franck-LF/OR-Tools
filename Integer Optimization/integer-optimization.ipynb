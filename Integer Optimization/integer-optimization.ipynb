{
 "cells": [
  {
   "cell_type": "markdown",
   "id": "5056f847",
   "metadata": {},
   "source": [
    "# <center>\n",
    "<div style=\"\n",
    "    background: #f0f333ff;\n",
    "    border-left: 5px solid #ecd242ff;\n",
    "    padding: 15px 25px;\n",
    "    margin: 20px 0;\n",
    "    box-shadow: 0 2px 8px rgba(0,0,0,0.08);\n",
    "\">\n",
    "    <h1 style=\"\n",
    "        text-align: center;\n",
    "        color: #2e3a59;\n",
    "        font-family: 'Segoe UI', sans-serif;\n",
    "        margin: 0;\n",
    "        font-weight: 600;\n",
    "    \">\n",
    "    Integer Optimization (MIP)\n",
    "    </h1>\n",
    "</div>"
   ]
  },
  {
   "cell_type": "markdown",
   "id": "b8d4e0b6",
   "metadata": {},
   "source": [
    "## Source"
   ]
  },
  {
   "cell_type": "markdown",
   "id": "073072fe",
   "metadata": {},
   "source": [
    "https://developers.google.com/optimization/mip?hl=en"
   ]
  },
  {
   "cell_type": "markdown",
   "id": "4afff9cb",
   "metadata": {},
   "source": [
    "##\n",
    "<div style=\"\n",
    "    background: #40f0aa;\n",
    "    border-left: 5px solid #0c7230ff;\n",
    "    padding: 15px 25px;\n",
    "    margin: 20px 0;\n",
    "    box-shadow: 0 2px 8px rgba(0,0,0,0.08);\n",
    "\">\n",
    "    <h2 style=\"\n",
    "        color: #2e3a59;\n",
    "        font-family: 'Segoe UI', sans-serif;\n",
    "        margin: 0;\n",
    "        font-weight: 500;\n",
    "    \">\n",
    "    MIP Problem\n",
    "    </h2>\n",
    "</div>"
   ]
  }
 ],
 "metadata": {
  "kernelspec": {
   "display_name": "ortools",
   "language": "python",
   "name": "python3"
  },
  "language_info": {
   "codemirror_mode": {
    "name": "ipython",
    "version": 3
   },
   "file_extension": ".py",
   "mimetype": "text/x-python",
   "name": "python",
   "nbconvert_exporter": "python",
   "pygments_lexer": "ipython3",
   "version": "3.12.10"
  }
 },
 "nbformat": 4,
 "nbformat_minor": 5
}

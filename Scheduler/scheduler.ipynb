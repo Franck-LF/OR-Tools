{
 "cells": [
  {
   "cell_type": "markdown",
   "id": "fdac16a9",
   "metadata": {},
   "source": [
    "# <center>\n",
    "<div style=\"\n",
    "    background: #f0f333ff;\n",
    "    border-left: 5px solid #ecd242ff;\n",
    "    padding: 15px 25px;\n",
    "    margin: 20px 0;\n",
    "    box-shadow: 0 2px 8px rgba(0,0,0,0.08);\n",
    "\">\n",
    "    <h1 style=\"\n",
    "        text-align: center;\n",
    "        color: #2e3a59;\n",
    "        font-family: 'Segoe UI', sans-serif;\n",
    "        margin: 0;\n",
    "        font-weight: 600;\n",
    "    \">\n",
    "    Scheduler\n",
    "    </h1>\n",
    "</div>"
   ]
  },
  {
   "cell_type": "code",
   "execution_count": null,
   "id": "3215b7a4",
   "metadata": {},
   "outputs": [
    {
     "data": {
      "text/plain": [
       "4"
      ]
     },
     "execution_count": 2,
     "metadata": {},
     "output_type": "execute_result"
    }
   ],
   "source": [
    "from ortools.sat.python import cp_model\n",
    "\n",
    "# Data\n",
    "num_nurses = 3\n",
    "num_shifts = 3\n",
    "num_days = 3\n",
    "all_nurses = range(num_nurses)\n",
    "all_shifts = range(num_shifts) \n",
    "all_days = range(num_days)\n",
    "\n",
    "# Create the model\n",
    "model = cp_model.CpModel()\n",
    "\n",
    "# Create the variables\n",
    "shifts = {}\n",
    "for n in all_nurses:\n",
    "    for d in all_days:\n",
    "        for s in all_shifts:\n",
    "            shifts[(n, d, s)] = model.new_bool_var(f\"shift_n{n}_d{d}_s{s}\")\n",
    "\n",
    "# -----------------\n",
    "# Constraints\n",
    "#\n",
    "\n",
    "# Each shift is assigned to a single nurse per day.\n",
    "for d in all_days:\n",
    "    for s in all_shifts:\n",
    "        model.add_exactly_one(shifts[(n, d, s)] for n in all_nurses)\n",
    "\n",
    "\n",
    "# Creates the solver and solve.\n",
    "solver = cp_model.CpSolver()\n",
    "solver.parameters.linearization_level = 0\n",
    "# Enumerate all solutions.\n",
    "solver.parameters.enumerate_all_solutions = True\n",
    "\n",
    "solver.solve(model)\n",
    "\n",
    "# Statistics.\n",
    "print(\"\\nStatistics\")\n",
    "print(f\"  - conflicts      : {solver.num_conflicts}\")\n",
    "print(f\"  - branches       : {solver.num_branches}\")\n",
    "print(f\"  - wall time      : {solver.wall_time} s\")"
   ]
  },
  {
   "cell_type": "code",
   "execution_count": null,
   "id": "37b58ee0",
   "metadata": {},
   "outputs": [
    {
     "data": {
      "text/plain": [
       "<ortools.sat.python.cp_model.CpModel at 0x22593472900>"
      ]
     },
     "execution_count": 3,
     "metadata": {},
     "output_type": "execute_result"
    }
   ],
   "source": [
    "model.va"
   ]
  },
  {
   "cell_type": "markdown",
   "id": "ec87c166",
   "metadata": {},
   "source": []
  }
 ],
 "metadata": {
  "kernelspec": {
   "display_name": "ortools",
   "language": "python",
   "name": "python3"
  },
  "language_info": {
   "codemirror_mode": {
    "name": "ipython",
    "version": 3
   },
   "file_extension": ".py",
   "mimetype": "text/x-python",
   "name": "python",
   "nbconvert_exporter": "python",
   "pygments_lexer": "ipython3",
   "version": "3.12.10"
  }
 },
 "nbformat": 4,
 "nbformat_minor": 5
}
